{
 "cells": [
  {
   "cell_type": "code",
   "execution_count": 1,
   "id": "ebd169d1",
   "metadata": {},
   "outputs": [],
   "source": [
    "import numpy as np"
   ]
  },
  {
   "cell_type": "code",
   "execution_count": 6,
   "id": "d5c2aa27",
   "metadata": {},
   "outputs": [
    {
     "name": "stdout",
     "output_type": "stream",
     "text": [
      "[[1.13]\n",
      " [1.55]\n",
      " [0.92]\n",
      " [1.25]\n",
      " [1.36]\n",
      " [1.32]\n",
      " [0.85]\n",
      " [1.07]\n",
      " [1.48]\n",
      " [1.2 ]\n",
      " [1.33]\n",
      " [1.18]\n",
      " [1.22]\n",
      " [1.29]]\n"
     ]
    }
   ],
   "source": [
    "printHead = np.array([[1.13], [1.55], [0.92], [1.25], [1.36], [1.32], [0.85], [1.07], [1.48], [1.20], [1.33], [1.18], [1.22], [1.29]]) # Pass all numbers as a single list\n",
    "print(printHead)"
   ]
  },
  {
   "cell_type": "code",
   "execution_count": 8,
   "id": "8e1a1b41",
   "metadata": {},
   "outputs": [
    {
     "data": {
      "text/plain": [
       "(14, 1)"
      ]
     },
     "execution_count": 8,
     "metadata": {},
     "output_type": "execute_result"
    }
   ],
   "source": [
    "printHead.shape"
   ]
  },
  {
   "cell_type": "code",
   "execution_count": 9,
   "id": "eae4b44c",
   "metadata": {},
   "outputs": [
    {
     "data": {
      "text/plain": [
       "2"
      ]
     },
     "execution_count": 9,
     "metadata": {},
     "output_type": "execute_result"
    }
   ],
   "source": [
    "printHead.ndim"
   ]
  },
  {
   "cell_type": "code",
   "execution_count": 10,
   "id": "d110a80d",
   "metadata": {},
   "outputs": [],
   "source": [
    "import pandas as pd"
   ]
  },
  {
   "cell_type": "code",
   "execution_count": 26,
   "id": "0835f1e4",
   "metadata": {},
   "outputs": [
    {
     "name": "stdout",
     "output_type": "stream",
     "text": [
      "I am 99% confident that population mean lie under: (0.7464866554492966, 1.7035133445507031)\n"
     ]
    }
   ],
   "source": [
    "from scipy import stats\n",
    "df_ci = stats.norm.interval(0.99, loc=printHead.mean(), scale=printHead.std())\n",
    "print(\"I am 99% confident that population mean lie under:\", df_ci)"
   ]
  },
  {
   "cell_type": "code",
   "execution_count": 1,
   "id": "f4b31fce",
   "metadata": {},
   "outputs": [
    {
     "name": "stdout",
     "output_type": "stream",
     "text": [
      "99% Confidence Interval: (1.090197338451367, 1.3871359948819662)\n"
     ]
    }
   ],
   "source": [
    "import numpy as np\n",
    "from scipy import stats\n",
    "\n",
    "# Sample data\n",
    "sample_data = [1.13,1.55,1.43,0.92,1.25,1.36,1.32,0.85,1.07,1.48,1.20,1.33,1.18,1.22,1.29]\n",
    "\n",
    "# Calculate sample mean and standard deviation\n",
    "sample_mean = np.mean(sample_data)\n",
    "sample_std = np.std(sample_data, ddof=1)\n",
    "sample_size = len(sample_data)\n",
    "\n",
    "# Determine the t-critical value\n",
    "confidence_level = 0.99\n",
    "alpha = 1 - confidence_level\n",
    "t_critical = stats.t.ppf(1 - alpha/2, df=sample_size-1)\n",
    "\n",
    "# Calculating the margin of error\n",
    "margin_of_error = t_critical * (sample_std / np.sqrt(sample_size))\n",
    "\n",
    "# Constructing the confidence interval\n",
    "confidence_interval = (sample_mean - margin_of_error, sample_mean + margin_of_error)\n",
    "print(f\"99% Confidence Interval: {confidence_interval}\")\n"
   ]
  },
  {
   "cell_type": "code",
   "execution_count": 2,
   "id": "8b8af80c",
   "metadata": {},
   "outputs": [
    {
     "name": "stdout",
     "output_type": "stream",
     "text": [
      "99% Confidence Interval (with known population std): (1.1056514133957607, 1.3716819199375725)\n"
     ]
    }
   ],
   "source": [
    "from scipy import stats\n",
    "import numpy as np\n",
    "\n",
    "data = [1.13,1.55,1.43,0.92,1.25,1.36,1.32,0.85,1.07,1.48,1.20,1.33,1.18,1.22,1.29]\n",
    "population_std = 0.2\n",
    "sample_mean = np.mean(data)\n",
    "z_value = stats.norm.ppf(0.995)  # 0.995 for two-tailed 99% CI\n",
    "margin_of_error = z_value * (population_std / np.sqrt(len(data)))\n",
    "confidence_interval = (sample_mean - margin_of_error, sample_mean + margin_of_error)\n",
    "\n",
    "print(\"99% Confidence Interval (with known population std):\", confidence_interval)"
   ]
  },
  {
   "cell_type": "code",
   "execution_count": null,
   "id": "d06c109e",
   "metadata": {},
   "outputs": [],
   "source": []
  }
 ],
 "metadata": {
  "kernelspec": {
   "display_name": "Python 3 (ipykernel)",
   "language": "python",
   "name": "python3"
  },
  "language_info": {
   "codemirror_mode": {
    "name": "ipython",
    "version": 3
   },
   "file_extension": ".py",
   "mimetype": "text/x-python",
   "name": "python",
   "nbconvert_exporter": "python",
   "pygments_lexer": "ipython3",
   "version": "3.11.7"
  }
 },
 "nbformat": 4,
 "nbformat_minor": 5
}
